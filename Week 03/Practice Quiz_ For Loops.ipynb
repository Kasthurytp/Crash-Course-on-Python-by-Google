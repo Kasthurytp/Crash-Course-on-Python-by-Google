{
  "metadata": {
    "language_info": {
      "codemirror_mode": {
        "name": "python",
        "version": 3
      },
      "file_extension": ".py",
      "mimetype": "text/x-python",
      "name": "python",
      "nbconvert_exporter": "python",
      "pygments_lexer": "ipython3",
      "version": "3.8"
    },
    "kernelspec": {
      "name": "python",
      "display_name": "Pyolite",
      "language": "python"
    }
  },
  "nbformat_minor": 4,
  "nbformat": 4,
  "cells": [
    {
      "cell_type": "code",
      "source": "#Question 2\n#Fill in the blanks to make the factorial function return the factorial of n. \n#Then, print the first 10 factorials (from 0 to 9) with the corresponding number.\n#Remember that the factorial of a number is defined as the product of an integer and all integers before it. \n#For example, the factorial of five (5!) is equal to 1*2*3*4*5=120. Also recall that the factorial of zero (0!) is equal to 1.\n\ndef factorial(n):\n    result = 1\n    for x in range(1,n):\n        result = result * x\n    return result\n\nfor n in range(0,10):\n    print(n, factorial(n+1))",
      "metadata": {
        "trusted": true
      },
      "execution_count": 1,
      "outputs": [
        {
          "name": "stdout",
          "text": "0 1\n1 1\n2 2\n3 6\n4 24\n5 120\n6 720\n7 5040\n8 40320\n9 362880\n",
          "output_type": "stream"
        }
      ]
    },
    {
      "cell_type": "code",
      "source": "#Question 3\n#Write a script that prints the first 10 cube numbers (x**3), starting with x=1 and ending with x=10.\n\nfor x in range(1,11):\n  print(x**3)",
      "metadata": {
        "trusted": true
      },
      "execution_count": 2,
      "outputs": [
        {
          "name": "stdout",
          "text": "1\n8\n27\n64\n125\n216\n343\n512\n729\n1000\n",
          "output_type": "stream"
        }
      ]
    },
    {
      "cell_type": "code",
      "source": "#Question 4\n#Write a script that prints the multiples of 7 between 0 and 100. \n#Print one multiple per line and avoid printing any numbers that aren't multiples of 7. Remember that 0 is also a multiple of 7.\n\nfor x in range(0,100):\n    result = x*7\n    if(result < 100):\n        print(result)",
      "metadata": {
        "trusted": true
      },
      "execution_count": 3,
      "outputs": [
        {
          "name": "stdout",
          "text": "0\n7\n14\n21\n28\n35\n42\n49\n56\n63\n70\n77\n84\n91\n98\n",
          "output_type": "stream"
        }
      ]
    },
    {
      "cell_type": "code",
      "source": "#Question 5\n#The retry function tries to execute an operation that might fail, it retries the operation for a number of attempts.  \n#Currently the code will keep executing the function even if it succeeds. \n#Fill in the blank so the code stops trying after the operation succeeded.\n\nbool create_user =false\ndef retry(operation, attempts):\n  for n in range(attempts):\n    if operation():\n      print(\"Attempt \" + str(n) + \" succeeded\")\n      break\n    else:\n      print(\"Attempt \" + str(n) + \" failed\")\n\nretry(create_user, 3)\nretry(stop_service, 5)",
      "metadata": {
        "trusted": true
      },
      "execution_count": 13,
      "outputs": [
        {
          "ename": "<class 'SyntaxError'>",
          "evalue": "invalid syntax (<ipython-input-13-59edd32b9ba4>, line 6)",
          "traceback": [
            "\u001b[0;36m  Input \u001b[0;32mIn [13]\u001b[0;36m\u001b[0m\n\u001b[0;31m    bool create_user =false\u001b[0m\n\u001b[0m         ^\u001b[0m\n\u001b[0;31mSyntaxError\u001b[0m\u001b[0;31m:\u001b[0m invalid syntax\n"
          ],
          "output_type": "error"
        }
      ]
    },
    {
      "cell_type": "code",
      "source": "",
      "metadata": {},
      "execution_count": null,
      "outputs": []
    }
  ]
}