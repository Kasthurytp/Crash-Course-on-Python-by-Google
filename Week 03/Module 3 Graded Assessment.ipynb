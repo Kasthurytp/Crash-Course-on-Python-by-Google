{
  "metadata": {
    "language_info": {
      "codemirror_mode": {
        "name": "python",
        "version": 3
      },
      "file_extension": ".py",
      "mimetype": "text/x-python",
      "name": "python",
      "nbconvert_exporter": "python",
      "pygments_lexer": "ipython3",
      "version": "3.8"
    },
    "kernelspec": {
      "name": "python",
      "display_name": "Pyolite",
      "language": "python"
    }
  },
  "nbformat_minor": 4,
  "nbformat": 4,
  "cells": [
    {
      "cell_type": "code",
      "source": "#Question 1\n#Fill in the blanks of this code to print out the numbers 1 through 7.\n\nnumber = 1\nwhile number < 7:\n\tprint(number, end=\" \")\n\tnumber = number+1",
      "metadata": {
        "trusted": true
      },
      "execution_count": 1,
      "outputs": [
        {
          "name": "stdout",
          "text": "1 2 3 4 5 6 ",
          "output_type": "stream"
        }
      ]
    },
    {
      "cell_type": "code",
      "source": "\n#Question 2\n#The show_letters function should print out each letter of a word on a separate line. Fill in the blanks to make that happen.7\n\ndef show_letters(word):\n\tfor x in word:\n\t\tprint(x)\n\nshow_letters(\"Hello\")\n# Should print one line per letter",
      "metadata": {
        "trusted": true
      },
      "execution_count": 2,
      "outputs": [
        {
          "name": "stdout",
          "text": "H\ne\nl\nl\no\n",
          "output_type": "stream"
        }
      ]
    },
    {
      "cell_type": "code",
      "source": "#Question 3\n#Complete the function digits(n) that returns how many digits the number has. For example: 25 has 2 digits and 144 has 3 digits. \n#Tip: you can figure out the digits of a number by dividing it by 10 once per digit until there are no digits left.\n\ndef digits(n):\n\tcount = 0\n\tif n == 0:\n\t  return 1\n\twhile (n > 0):\n\t\tn = n//10\n\t\tcount += 1\n\treturn count\n\t\nprint(digits(25))   # Should print 2\nprint(digits(144))  # Should print 3\nprint(digits(1000)) # Should print 4\nprint(digits(0))    # Should print 1",
      "metadata": {
        "trusted": true
      },
      "execution_count": 3,
      "outputs": [
        {
          "name": "stdout",
          "text": "2\n3\n4\n1\n",
          "output_type": "stream"
        }
      ]
    },
    {
      "cell_type": "code",
      "source": "#Question 4\n#This function prints out a multiplication table (where each number is the result of multiplying the first number of \n#its row by the number at the top of its column).\n\ndef multiplication_table(start, stop):\n\tfor x in range(start, stop+1):\n\t\tfor y in range(start, stop+1):\n\t\t\tprint(str(x*y), end=\" \")\n\t\tprint()\n\nmultiplication_table(1, 3)\n# Should print the multiplication table shown above",
      "metadata": {
        "trusted": true
      },
      "execution_count": 4,
      "outputs": [
        {
          "name": "stdout",
          "text": "1 2 3 \n2 4 6 \n3 6 9 \n",
          "output_type": "stream"
        }
      ]
    },
    {
      "cell_type": "code",
      "source": "#Question 5\n#The counter function counts down from start to stop when start is bigger than stop, and counts up from start to stop otherwise. \n#Fill in the blanks to make this work correctly.\n\ndef counter(start, stop):\n\tx = start\n\tif start > stop:\n\t\treturn_string = \"Counting down: \"\n\t\twhile x >= stop:\n\t\t\treturn_string += str(x)\n\t\t\tif (x>stop):\n\t\t\t\treturn_string += \",\"\n\t\t\tx = x-1\n\telse:\n\t\treturn_string = \"Counting up: \"\n\t\twhile x <= stop:\n\t\t\treturn_string += str(x)\n\t\t\tif (x < stop):\n\t\t\t\treturn_string += \",\"\n\t\t\tx = x +1\n\treturn return_string\n\nprint(counter(1, 10)) # Should be \"Counting up: 1,2,3,4,5,6,7,8,9,10\"\nprint(counter(2, 1)) # Should be \"Counting down: 2,1\"\nprint(counter(5, 5)) # Should be \"Counting up: 5\"",
      "metadata": {
        "trusted": true
      },
      "execution_count": 5,
      "outputs": [
        {
          "name": "stdout",
          "text": "Counting up: 1,2,3,4,5,6,7,8,9,10\nCounting down: 2,1\nCounting up: 5\n",
          "output_type": "stream"
        }
      ]
    },
    {
      "cell_type": "code",
      "source": "#Question 6\n#The even_numbers function returns a space-separated string of all positive numbers that are divisible by 2, \n#up to and including the maximum that's passed into the function. For example, even_numbers(6) returns “2 4 6”.\n#Fill in the blank to make this work.\n\ndef even_numbers(maximum):\n\treturn_string = \"\"\n\tfor x in range (2,maximum+1,2):\n\t\treturn_string += str(x) + \" \"\n\treturn return_string.strip()\n\nprint(even_numbers(6))  # Should be 2 4 6\nprint(even_numbers(10)) # Should be 2 4 6 8 10\nprint(even_numbers(1))  # No numbers displayed\nprint(even_numbers(3))  # Should be 2\nprint(even_numbers(0))  # No numbers displayed",
      "metadata": {
        "trusted": true
      },
      "execution_count": 6,
      "outputs": [
        {
          "name": "stdout",
          "text": "2 4 6\n2 4 6 8 10\n\n2\n\n",
          "output_type": "stream"
        }
      ]
    },
    {
      "cell_type": "code",
      "source": "#Question 8\n#What is the value of x at the end of the following code?\n\nfor x in range(1, 10, 3):\n    print(x)",
      "metadata": {
        "trusted": true
      },
      "execution_count": 7,
      "outputs": [
        {
          "name": "stdout",
          "text": "1\n4\n7\n",
          "output_type": "stream"
        }
      ]
    },
    {
      "cell_type": "code",
      "source": "#Question 9\n#What is the value of y at the end of the following code?\n\nfor x in range(10):\n    for y in range(x):\n        print(y)",
      "metadata": {
        "trusted": true
      },
      "execution_count": 8,
      "outputs": [
        {
          "name": "stdout",
          "text": "0\n0\n1\n0\n1\n2\n0\n1\n2\n3\n0\n1\n2\n3\n4\n0\n1\n2\n3\n4\n5\n0\n1\n2\n3\n4\n5\n6\n0\n1\n2\n3\n4\n5\n6\n7\n0\n1\n2\n3\n4\n5\n6\n7\n8\n",
          "output_type": "stream"
        }
      ]
    },
    {
      "cell_type": "code",
      "source": "#Question 10\n#How does this function need to be called to print yes, no, and maybe as possible options to vote for?\n\ndef votes(params):\n\tfor vote in params:\n\t    print(\"Possible option:\" + vote)",
      "metadata": {
        "trusted": true
      },
      "execution_count": 9,
      "outputs": []
    },
    {
      "cell_type": "code",
      "source": "",
      "metadata": {},
      "execution_count": null,
      "outputs": []
    }
  ]
}