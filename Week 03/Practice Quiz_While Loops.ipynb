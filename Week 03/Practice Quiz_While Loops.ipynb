{
  "metadata": {
    "language_info": {
      "codemirror_mode": {
        "name": "python",
        "version": 3
      },
      "file_extension": ".py",
      "mimetype": "text/x-python",
      "name": "python",
      "nbconvert_exporter": "python",
      "pygments_lexer": "ipython3",
      "version": "3.8"
    },
    "kernelspec": {
      "name": "python",
      "display_name": "Pyolite",
      "language": "python"
    }
  },
  "nbformat_minor": 4,
  "nbformat": 4,
  "cells": [
    {
      "cell_type": "code",
      "source": "#Question 02\n#Fill in the blanks to make the print_prime_factors function print all the prime factors of a number.\n#A prime factor is a number that is prime and divides another without a remainder.\n\ndef print_prime_factors(number):\n  # Start with two, which is the first prime\n  factor = 2\n  # Keep going until the factor is larger than the number\n  while factor <= number:\n    # Check if factor is a divisor of number\n    if number % factor == 0:\n      # If it is, print it and divide the original number\n      print(factor)\n      number = number / factor\n    else:\n      # If it's not, increment the factor by one\n      factor=factor+1;\n  return \"Done\"\n\nprint_prime_factors(100)\n# Should print 2,2,5,5\n# DO NOT DELETE THIS COMMENT",
      "metadata": {
        "trusted": true
      },
      "execution_count": 1,
      "outputs": [
        {
          "name": "stdout",
          "text": "2\n2\n5\n5\n",
          "output_type": "stream"
        },
        {
          "execution_count": 1,
          "output_type": "execute_result",
          "data": {
            "text/plain": "'Done'"
          },
          "metadata": {}
        }
      ]
    },
    {
      "cell_type": "code",
      "source": "#Question 3\n#The following code can lead to an infinite loop. Fix the code so that it can finish successfully for all numbers.\n\ndef is_power_of_two(n):\n  # Check if the number can be divided by two without a remainder\n  while n % 2 == 0 and n > 0:\n    n = n / 2\n  # If after dividing by two the number is 1, it's a power of two\n  if n == 1:\n    return True\n  return False\n  \n\nprint(is_power_of_two(0)) # Should be False\nprint(is_power_of_two(1)) # Should be True\nprint(is_power_of_two(8)) # Should be True\nprint(is_power_of_two(9)) # Should be False",
      "metadata": {
        "trusted": true
      },
      "execution_count": 2,
      "outputs": [
        {
          "name": "stdout",
          "text": "False\nTrue\nTrue\nFalse\n",
          "output_type": "stream"
        }
      ]
    },
    {
      "cell_type": "code",
      "source": "#Question 4\n#Fill in the empty function so that it returns the sum of all the divisors of a number, without including it. \n#A divisor is a number that divides into another without a remainder.\n\ndef sum_divisors(n):\n  sum = 0\n  # Return the sum of all divisors of n, not including n\n  for x in range(1,n):\n    if(n % x == 0):\n      sum = sum + x\n  return sum\n\nprint(sum_divisors(0))\n# 0\nprint(sum_divisors(3)) # Should sum of 1\n# 1\nprint(sum_divisors(36)) # Should sum of 1+2+3+4+6+9+12+18\n# 55\nprint(sum_divisors(102)) # Should be sum of 2+3+6+17+34+51\n# 114",
      "metadata": {
        "trusted": true
      },
      "execution_count": 3,
      "outputs": [
        {
          "name": "stdout",
          "text": "0\n1\n55\n114\n",
          "output_type": "stream"
        }
      ]
    },
    {
      "cell_type": "code",
      "source": "#Question 5\n#The multiplication_table function prints the results of a number passed to it multiplied by 1 through 5.\n#An additional requirement is that the result is not to exceed 25, which is done with the break statement. \n#Fill in the blanks to complete the function to satisfy these conditions.\n\n",
      "metadata": {},
      "execution_count": null,
      "outputs": []
    }
  ]
}