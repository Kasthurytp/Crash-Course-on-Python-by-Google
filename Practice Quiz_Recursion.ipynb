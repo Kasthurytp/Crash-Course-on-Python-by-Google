{
  "metadata": {
    "language_info": {
      "codemirror_mode": {
        "name": "python",
        "version": 3
      },
      "file_extension": ".py",
      "mimetype": "text/x-python",
      "name": "python",
      "nbconvert_exporter": "python",
      "pygments_lexer": "ipython3",
      "version": "3.8"
    },
    "kernelspec": {
      "name": "python",
      "display_name": "Pyolite",
      "language": "python"
    }
  },
  "nbformat_minor": 4,
  "nbformat": 4,
  "cells": [
    {
      "cell_type": "code",
      "source": "\"\"\"\nQuestion 3\nFill in the blanks to make the is_power_of function return whether the number is a power of the given base.\nNote: base is assumed to be a positive number. Tip: for functions that return a boolean value, you can return the result of a comparison.\n\"\"\"\n\ndef is_power_of(number, base):\n  # Base case: when number is smaller than base.\n  if (number < base) and (number==1):\n    # If number is equal to 1, it's a power (base**0).\n    return True\n  elif (number == 0):\n    return False\n  else:\n    number = number / base\n  # Recursive case: keep dividing number by base.\n  return is_power_of(number, base)\n\nprint(is_power_of(8,2)) # Should be True\nprint(is_power_of(64,4)) # Should be True\nprint(is_power_of(70,10)) # Should be False",
      "metadata": {
        "trusted": true
      },
      "execution_count": 1,
      "outputs": [
        {
          "name": "stdout",
          "text": "True\nTrue\nFalse\n",
          "output_type": "stream"
        }
      ]
    },
    {
      "cell_type": "code",
      "source": "\"\"\"\nQuestion 4\nThe count_users function recursively counts the amount of users that belong to a group in the company system, \nby going through each of the members of a group and if one of them is a group, recursively calling the function \nand counting the members. But it has a bug! Can you spot the problem and fix it?\n\"\"\"\n\ndef count_users(group):\n  count = 0\n  for member in get_members(group):\n    if is_group(member):\n      count += count_users(member)\n    else:\n        count += 1\n  return count\n\nprint(count_users(\"sales\")) # Should be 3\nprint(count_users(\"engineering\")) # Should be 8\nprint(count_users(\"everyone\")) # Should be 18",
      "metadata": {
        "trusted": true
      },
      "execution_count": null,
      "outputs": []
    },
    {
      "cell_type": "code",
      "source": "\"\"\"",
      "metadata": {},
      "execution_count": null,
      "outputs": []
    }
  ]
}