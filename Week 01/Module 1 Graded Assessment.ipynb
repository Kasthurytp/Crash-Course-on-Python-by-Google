{
  "metadata": {
    "language_info": {
      "codemirror_mode": {
        "name": "python",
        "version": 3
      },
      "file_extension": ".py",
      "mimetype": "text/x-python",
      "name": "python",
      "nbconvert_exporter": "python",
      "pygments_lexer": "ipython3",
      "version": "3.8"
    },
    "kernelspec": {
      "name": "python",
      "display_name": "Pyolite",
      "language": "python"
    }
  },
  "nbformat_minor": 4,
  "nbformat": 4,
  "cells": [
    {
      "cell_type": "code",
      "source": "#Question - 06\n#Write a Python script that outputs \"Automating with Python is fun!\" to the screen.\n\nprint(\"Automating with Python is fun!\");",
      "metadata": {
        "trusted": true
      },
      "execution_count": 2,
      "outputs": [
        {
          "name": "stdout",
          "text": "Automating with Python is fun!\n",
          "output_type": "stream"
        }
      ]
    },
    {
      "cell_type": "code",
      "source": "#Question - 07\n#Fill in the blanks so that the code prints \"Yellow is the color of sunshine\".\n\ncolor = \"Yellow\";\nthing = \"sunshine\";\nprint(color + \" is the color of \" + thing)",
      "metadata": {
        "trusted": true
      },
      "execution_count": 3,
      "outputs": [
        {
          "name": "stdout",
          "text": "Yellow is the color of sunshine\n",
          "output_type": "stream"
        }
      ]
    },
    {
      "cell_type": "code",
      "source": "#Question - 08\n#Keeping in mind there are 86400 seconds per day, write a program that calculates how many seconds there are in a week, \n#if a week is 7 days.  Print the result on the screen.\n\nprint(86400*7)",
      "metadata": {
        "trusted": true
      },
      "execution_count": 7,
      "outputs": [
        {
          "name": "stdout",
          "text": "604800\n",
          "output_type": "stream"
        }
      ]
    },
    {
      "cell_type": "code",
      "source": "#Question - 09\n#Use Python to calculate how many different passwords can be formed with 6 lower case English letters.\n#For a 1 letter password, there would be 26 possibilities.  For a 2 letter password, each letter is independent of the other, \n#so there would be 26 times 26 possibilities.  Using this information, print the amount of possible passwords that can be formed \n#with 6 letters.\n\nprint(26**6)",
      "metadata": {
        "trusted": true
      },
      "execution_count": 5,
      "outputs": [
        {
          "name": "stdout",
          "text": "308915776\n",
          "output_type": "stream"
        }
      ]
    },
    {
      "cell_type": "code",
      "source": "#Question - 10\n#Most hard drives are divided into sectors of 512 bytes each.  Our disk has a size of 16 GB. \n#Fill in the blank to calculate how many sectors the disk has.\n\ndisk_size = 16*1024*1024*1024\nsector_size = 512\nsector_amount = disk_size/sector_size;\n\nprint(sector_amount)",
      "metadata": {
        "trusted": true
      },
      "execution_count": 6,
      "outputs": [
        {
          "name": "stdout",
          "text": "33554432.0\n",
          "output_type": "stream"
        }
      ]
    },
    {
      "cell_type": "code",
      "source": "",
      "metadata": {},
      "execution_count": null,
      "outputs": []
    }
  ]
}
