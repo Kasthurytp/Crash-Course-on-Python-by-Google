{
  "metadata": {
    "language_info": {
      "codemirror_mode": {
        "name": "python",
        "version": 3
      },
      "file_extension": ".py",
      "mimetype": "text/x-python",
      "name": "python",
      "nbconvert_exporter": "python",
      "pygments_lexer": "ipython3",
      "version": "3.8"
    },
    "kernelspec": {
      "name": "python",
      "display_name": "Pyolite",
      "language": "python"
    }
  },
  "nbformat_minor": 4,
  "nbformat": 4,
  "cells": [
    {
      "cell_type": "code",
      "source": "\"\"\"\nQuestion 2\nUsing the format method, fill in the gaps in the convert_distance function so that it returns the phrase \n\"X miles equals Y km\", with Y having only 1 decimal place. For example, convert_distance(12) should return \"12 miles equals 19.2 km\".\n\"\"\"\n\ndef convert_distance(miles):\n\tkm = miles * 1.6 \n\tformatted_string = \"{:.2f}\".format(km)\n\tfloat_value = float(formatted_string)\n\tresult = \"{} miles equals {} km\".format(miles,float_value)\n\treturn result\n\nprint(convert_distance(12)) # Should be: 12 miles equals 19.2 km\nprint(convert_distance(5.5)) # Should be: 5.5 miles equals 8.8 km\nprint(convert_distance(11)) # Should be: 11 miles equals 17.6 km\n",
      "metadata": {
        "trusted": true
      },
      "execution_count": 8,
      "outputs": [
        {
          "name": "stdout",
          "text": "12 miles equals 19.2 km\n5.5 miles equals 8.8 km\n11 miles equals 17.6 km\n",
          "output_type": "stream"
        }
      ]
    },
    {
      "cell_type": "code",
      "source": "\"\"\"\nQuestion 4\nFill in the gaps in the nametag function so that it uses the format method to return first_name and the first initial \nof last_name followed by a period. For example, nametag(\"Jane\", \"Smith\") should return \"Jane S.\"\n\"\"\"\n\ndef nametag(first_name, last_name):\n\treturn(\"{} {}.\".format(first_name,last_name[0]))\n\nprint(nametag(\"Jane\", \"Smith\")) \n# Should display \"Jane S.\" \nprint(nametag(\"Francesco\", \"Rinaldi\")) \n# Should display \"Francesco R.\" \nprint(nametag(\"Jean-Luc\", \"Grand-Pierre\")) \n# Should display \"Jean-Luc G.\" \n",
      "metadata": {
        "trusted": true
      },
      "execution_count": 9,
      "outputs": [
        {
          "name": "stdout",
          "text": "Jane S.\nFrancesco R.\nJean-Luc G.\n",
          "output_type": "stream"
        }
      ]
    },
    {
      "cell_type": "code",
      "source": "\"\"\"\nQuestion 5\nThe replace_ending function replaces the old string in a sentence with the new string, but only if the sentence ends with the old string. \nIf there is more than one occurrence of the old string in the sentence, only the one at the end is replaced, not all of them. For example,\nreplace_ending(\"abcabc\", \"abc\", \"xyz\") should return abcxyz, not xyzxyz or xyzabc. The string comparison is case-sensitive, \nso replace_ending(\"abcabc\", \"ABC\", \"xyz\") should return abcabc (no changes made). \n\"\"\"\n\ndef replace_ending(sentence, old, new):\n\t# Check if the old string is at the end of the sentence \n\tlast = sentence.split()\n\tif (last[-1] == old):\n\t\t# Using i as the slicing index, combine the part\n\t\t# of the sentence up to the matched string at the \n\t\t# end with the new string\n\t\ti = ' '.join(last[0:-1])\n\t\tnew_sentence = \"{} {}\".format(i,new)\n\t\treturn new_sentence\n\n\t# Return the original sentence if there is no match \n\treturn sentence\n\t\nprint(replace_ending(\"It's raining cats and cats\", \"cats\", \"dogs\")) \n# Should display \"It's raining cats and dogs\"\nprint(replace_ending(\"She sells seashells by the seashore\", \"seashells\", \"donuts\")) \n# Should display \"She sells seashells by the seashore\"\nprint(replace_ending(\"The weather is nice in May\", \"may\", \"april\")) \n# Should display \"The weather is nice in May\"\nprint(replace_ending(\"The weather is nice in May\", \"May\", \"April\")) \n# Should display \"The weather is nice in April\"",
      "metadata": {
        "trusted": true
      },
      "execution_count": 10,
      "outputs": [
        {
          "name": "stdout",
          "text": "It's raining cats and dogs\nShe sells seashells by the seashore\nThe weather is nice in May\nThe weather is nice in April\n",
          "output_type": "stream"
        }
      ]
    },
    {
      "cell_type": "code",
      "source": "",
      "metadata": {},
      "execution_count": null,
      "outputs": []
    }
  ]
}