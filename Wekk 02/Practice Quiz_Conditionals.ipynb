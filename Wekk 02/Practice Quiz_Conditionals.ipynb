{
  "metadata": {
    "language_info": {
      "codemirror_mode": {
        "name": "python",
        "version": 3
      },
      "file_extension": ".py",
      "mimetype": "text/x-python",
      "name": "python",
      "nbconvert_exporter": "python",
      "pygments_lexer": "ipython3",
      "version": "3.8"
    },
    "kernelspec": {
      "name": "python",
      "display_name": "Pyolite",
      "language": "python"
    }
  },
  "nbformat_minor": 4,
  "nbformat": 4,
  "cells": [
    {
      "cell_type": "code",
      "source": "#Question 02\n#Complete the script by filling in the missing parts. The function receives a name, \n#then returns a greeting based on whether or not that name is \"Taylor\".\n\ndef greeting(name):\n  if name == \"Taylor\":\n    return \"Welcome back Taylor!\"\n  else:\n    return \"Hello there, \" + name\n\nprint(greeting(\"Taylor\"))\nprint(greeting(\"John\"))",
      "metadata": {
        "trusted": true
      },
      "execution_count": 5,
      "outputs": [
        {
          "name": "stdout",
          "text": "Welcome back Taylor!\nHello there, John\n",
          "output_type": "stream"
        }
      ]
    },
    {
      "cell_type": "code",
      "source": "#Question 03\n#What’s the output of this code if number equals 10?\n\nnumber = 10\nif number > 11: \n  print(0)\nelif number != 10:\n  print(1)\nelif number >= 20 or number < 12:\n  print(2)\nelse:\n  print(3)\n",
      "metadata": {
        "trusted": true
      },
      "execution_count": 7,
      "outputs": [
        {
          "name": "stdout",
          "text": "2\n",
          "output_type": "stream"
        }
      ]
    },
    {
      "cell_type": "code",
      "source": "#Question 05\n#If a filesystem has a block size of 4096 bytes, this means that a file comprised of only one byte will still use 4096 bytes of storage. \n#A file made up of 4097 bytes will use 4096*2=8192 bytes of storage. Knowing this, can you fill in the gaps in the calculate_storage \n#function below, which calculates the total number of bytes needed to store a file of a given size? \n\ndef calculate_storage(filesize):\n    block_size = 4096\n    # Use floor division to calculate how many blocks are fully occupied\n    if(filesize<=4096):\n        full_blocks = filesize // block_size\n    else:\n    # Use the modulo operator to check whether there's any remainder\n        partial_block_remainder = filesize % block_size\n    # Depending on whether there's a remainder or not, return\n    # the total number of bytes required to allocate enough blocks\n    # to store your data.\n        if partial_block_remainder > 0:\n            return 8192\n    return 4096\n\nprint(calculate_storage(1))    # Should be 4096\nprint(calculate_storage(4096)) # Should be 4096\nprint(calculate_storage(4097)) # Should be 8192\nprint(calculate_storage(6000)) # Should be 8192",
      "metadata": {
        "trusted": true
      },
      "execution_count": 9,
      "outputs": [
        {
          "name": "stdout",
          "text": "4096\n4096\n8192\n8192\n",
          "output_type": "stream"
        }
      ]
    },
    {
      "cell_type": "code",
      "source": "",
      "metadata": {},
      "execution_count": null,
      "outputs": []
    }
  ]
}