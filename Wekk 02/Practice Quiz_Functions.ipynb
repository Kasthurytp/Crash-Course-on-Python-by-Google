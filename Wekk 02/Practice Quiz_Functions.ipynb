{
  "metadata": {
    "language_info": {
      "codemirror_mode": {
        "name": "python",
        "version": 3
      },
      "file_extension": ".py",
      "mimetype": "text/x-python",
      "name": "python",
      "nbconvert_exporter": "python",
      "pygments_lexer": "ipython3",
      "version": "3.8"
    },
    "kernelspec": {
      "name": "python",
      "display_name": "Pyolite",
      "language": "python"
    }
  },
  "nbformat_minor": 4,
  "nbformat": 4,
  "cells": [
    {
      "cell_type": "code",
      "source": "#Question 01\n#This function converts miles to kilometers (km).\n\n# 1) Complete the function to return the result of the conversion\ndef convert_distance(miles):\n\tkm = miles * 1.6  # approximately 1.6 km in 1 mile\n\treturn km\n\nmy_trip_miles = 55\n\n# 2) Convert my_trip_miles to kilometers by calling the function above\nmy_trip_km = convert_distance(my_trip_miles)\n\n# 3) Fill in the blank to print the result of the conversion\nprint(\"The distance in kilometers is \" + str(my_trip_km))\n\n# 4) Calculate the round-trip in kilometers by doubling the result,\n#    and fill in the blank to print the result\nprint(\"The round-trip in kilometers is \" + str(my_trip_km*2))",
      "metadata": {
        "trusted": true
      },
      "execution_count": 1,
      "outputs": [
        {
          "name": "stdout",
          "text": "The distance in kilometers is 88.0\nThe round-trip in kilometers is 176.0\n",
          "output_type": "stream"
        }
      ]
    },
    {
      "cell_type": "code",
      "source": "#Question 02\n#This function compares two numbers and returns them in increasing order.\n\n# This function compares two numbers and returns them\n# in increasing order.\ndef order_numbers(number1, number2):\n\tif number2 > number1:\n\t\treturn number1, number2\n\telse:\n\t\treturn number2, number1\n\n# 1) Fill in the blanks so the print statement displays the result\n#    of the function call\nsmaller, bigger = order_numbers(100, 99)\nprint(smaller, bigger)",
      "metadata": {
        "trusted": true
      },
      "execution_count": 2,
      "outputs": [
        {
          "name": "stdout",
          "text": "99 100\n",
          "output_type": "stream"
        }
      ]
    },
    {
      "cell_type": "code",
      "source": "#Question 04\n#Question 4\nLet's revisit our lucky_number function. We want to change it, so that instead of printing the message, it returns the message. This way, the calling line can print the message, or do something else with it if needed. Fill in the blanks to complete the code to make it work.",
      "metadata": {},
      "execution_count": null,
      "outputs": []
    }
  ]
}