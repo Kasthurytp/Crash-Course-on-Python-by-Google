{
  "metadata": {
    "language_info": {
      "codemirror_mode": {
        "name": "python",
        "version": 3
      },
      "file_extension": ".py",
      "mimetype": "text/x-python",
      "name": "python",
      "nbconvert_exporter": "python",
      "pygments_lexer": "ipython3",
      "version": "3.8"
    },
    "kernelspec": {
      "name": "python",
      "display_name": "Pyolite",
      "language": "python"
    }
  },
  "nbformat_minor": 4,
  "nbformat": 4,
  "cells": [
    {
      "cell_type": "code",
      "source": "#Question 01\n#In this scenario, two friends are eating dinner at a restaurant.\n#The bill comes in the amount of 47.28 dollars. The friends decide to split the bill evenly between them, \n#after adding 15% tip for the service. Calculate the tip, the total amount to pay, and each friend's share,\n#then output a message saying \"Each person needs to pay: \" followed by the resulting number.\n\nbill = 47.28\ntip = bill * (15/100)\ntotal = bill + tip\nshare = total/2\nprint(\"Each person needs to pay: \" + str(share))",
      "metadata": {
        "trusted": true
      },
      "execution_count": 1,
      "outputs": [
        {
          "name": "stdout",
          "text": "Each person needs to pay: 27.186\n",
          "output_type": "stream"
        }
      ]
    },
    {
      "cell_type": "code",
      "source": "#Question 02\n#This code is supposed to take two numbers, divide one by another so that the result is equal to 1, \n#and display the result on the screen. Unfortunately, there is an error in the code. Find the error and fix it, \n#so that the output is correct.\n\nnumerator = 10\ndenominator = 10\nresult = numerator // denominator\nprint(result)",
      "metadata": {
        "trusted": true
      },
      "execution_count": 2,
      "outputs": [
        {
          "name": "stdout",
          "text": "1\n",
          "output_type": "stream"
        }
      ]
    },
    {
      "cell_type": "code",
      "source": "#Question 03\n#Combine the variables to display the sentence \"How do you like Python so far?\"\n\nword1 = \"How\"\nword2 = \"do\"\nword3 = \"you\"\nword4 = \"like\"\nword5 = \"Python\"\nword6 = \"so\"\nword7 = \"far?\"\n\nprint(word1+ \" \"+ word2+\" \"+word3+\" \"+word4+\" \"+word5+ \" \"+word6+\" \"+word7)",
      "metadata": {
        "trusted": true
      },
      "execution_count": 3,
      "outputs": [
        {
          "name": "stdout",
          "text": "How do you like Python so far?\n",
          "output_type": "stream"
        }
      ]
    },
    {
      "cell_type": "code",
      "source": "",
      "metadata": {},
      "execution_count": null,
      "outputs": []
    }
  ]
}