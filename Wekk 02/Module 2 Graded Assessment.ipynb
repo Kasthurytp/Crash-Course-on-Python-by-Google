{
  "metadata": {
    "language_info": {
      "codemirror_mode": {
        "name": "python",
        "version": 3
      },
      "file_extension": ".py",
      "mimetype": "text/x-python",
      "name": "python",
      "nbconvert_exporter": "python",
      "pygments_lexer": "ipython3",
      "version": "3.8"
    },
    "kernelspec": {
      "name": "python",
      "display_name": "Pyolite",
      "language": "python"
    }
  },
  "nbformat_minor": 4,
  "nbformat": 4,
  "cells": [
    {
      "cell_type": "code",
      "source": "#Question 01\n#Complete the function by filling in the missing parts. The color_translator function receives the name of a color, \n#then prints its hexadecimal value. Currently, it only supports the three additive primary colors (red, green, blue), \n#so it returns \"unknown\" for all other colors.\n\ndef color_translator(color):\n\tif color == \"red\":\n\t\thex_color = \"#ff0000\"\n\telif color == \"green\":\n\t\thex_color = \"#00ff00\"\n\telif color == \"blue\":\n\t\thex_color = \"#0000ff\"\n\telse:\n\t\thex_color = \"unknown\"\n\treturn hex_color\n\nprint(color_translator(\"blue\")) # Should be #0000ff\nprint(color_translator(\"yellow\")) # Should be unknown\nprint(color_translator(\"red\")) # Should be #ff0000\nprint(color_translator(\"black\")) # Should be unknown\nprint(color_translator(\"green\")) # Should be #00ff00\nprint(color_translator(\"\")) # Should be unknown",
      "metadata": {
        "trusted": true
      },
      "execution_count": 1,
      "outputs": [
        {
          "name": "stdout",
          "text": "#0000ff\nunknown\n#ff0000\nunknown\n#00ff00\nunknown\n",
          "output_type": "stream"
        }
      ]
    },
    {
      "cell_type": "code",
      "source": "#Question 04\n#Students in a class receive their grades as Pass/Fail. Scores of 60 or more (out of 100) mean that the grade is \"Pass\". \n#For lower scores, the grade is \"Fail\". In addition, scores above 95 (not included) are graded as \"Top Score\".\n#Fill in this function so that it returns the proper grade.\n\ndef exam_grade(score):\n\tif 100 >= score >95:\n\t\tgrade = \"Top Score\"\n\telif 60<= score<=95:\n\t\tgrade = \"Pass\"\n\telse:\n\t\tgrade = \"Fail\"\n\treturn grade\n\nprint(exam_grade(65)) # Should be Pass\nprint(exam_grade(55)) # Should be Fail\nprint(exam_grade(60)) # Should be Pass\nprint(exam_grade(95)) # Should be Pass\nprint(exam_grade(100)) # Should be Top Score\nprint(exam_grade(0)) # Should be Fail",
      "metadata": {
        "trusted": true
      },
      "execution_count": 2,
      "outputs": [
        {
          "name": "stdout",
          "text": "Pass\nFail\nPass\nPass\nTop Score\nFail\n",
          "output_type": "stream"
        }
      ]
    },
    {
      "cell_type": "code",
      "source": "#Question 06\n#This function receives the first_name and last_name parameters and then returns a properly formatted string.\n#If both the last_name and the first_name parameters are supplied, the function should return like so:\n    #print(format_name(\"Ella\", \"Fitzgerald\"))\n    #Name: Fitzgerald, Ella\n#If only one name parameter is supplied (either the first name or the last name) , the function should return like so:\n    #print(format_name(\"Adele\", \"\"))\n    #Name: Adele\n    #or\n    #print(format_name(\"\", \"Einstein\"))\n    #Name: Einstein\n#Finally, if both names are blank, the function should return the empty string:\n    #print(format_name(\"\", \"\"))\n    \ndef format_name(first_name, last_name):\n\tfirst_name_count = len(first_name)\n\tlast_name_count = len(last_name)\n\tif (first_name_count>0 and last_name_count>0):\n\t\tstring = \"Name: \" + last_name + \", \" + first_name\n\telif (first_name_count==0 and last_name_count>0):\n\t\tstring = \"Name: \" + last_name\n\telif (first_name_count>0 and last_name_count==0):\n\t\tstring = \"Name: \" + first_name\n\telif (first_name_count==0 and last_name_count==0):\n\t\tstring = \"\"\n\treturn string \n\nprint(format_name(\"Ernest\", \"Hemingway\"))\n# Should return the string \"Name: Hemingway, Ernest\"\n\nprint(format_name(\"\", \"Madonna\"))\n# Should return the string \"Name: Madonna\"\n\nprint(format_name(\"Voltaire\", \"\"))\n# Should return the string \"Name: Voltaire\"\n\nprint(format_name(\"\", \"\"))\n# Should return an empty string\n",
      "metadata": {
        "trusted": true
      },
      "execution_count": 3,
      "outputs": [
        {
          "name": "stdout",
          "text": "Name: Hemingway, Ernest\nName: Madonna\nName: Voltaire\n\n",
          "output_type": "stream"
        }
      ]
    },
    {
      "cell_type": "code",
      "source": "#Question 07\n#The longest_word function is used to compare 3 words. It should return the word with\n#the most number of characters (and the first in the list when they have the same length). Fill in the blank to make this happen.\n\ndef longest_word(word1, word2, word3):\n\tif len(word1) >= len(word2) and len(word1) >= len(word3):\n\t\tword = word1\n\telif len(word2) >= len(word3) and len(word2) >= len(word3):\n\t\tword = word2\n\telse:\n\t\tword = word3\n\treturn(word)\n\nprint(longest_word(\"chair\", \"couch\", \"table\"))\nprint(longest_word(\"bed\", \"bath\", \"beyond\"))\nprint(longest_word(\"laptop\", \"notebook\", \"desktop\"))",
      "metadata": {
        "trusted": true
      },
      "execution_count": 4,
      "outputs": [
        {
          "name": "stdout",
          "text": "chair\nbeyond\nnotebook\n",
          "output_type": "stream"
        }
      ]
    },
    {
      "cell_type": "code",
      "source": "#Question 8\ndef sum(x, y):\n\t\treturn(x+y)\nprint(sum(sum(1,2), sum(3,4)))",
      "metadata": {
        "trusted": true
      },
      "execution_count": 5,
      "outputs": [
        {
          "name": "stdout",
          "text": "10\n",
          "output_type": "stream"
        }
      ]
    },
    {
      "cell_type": "code",
      "source": "",
      "metadata": {},
      "execution_count": null,
      "outputs": []
    }
  ]
}